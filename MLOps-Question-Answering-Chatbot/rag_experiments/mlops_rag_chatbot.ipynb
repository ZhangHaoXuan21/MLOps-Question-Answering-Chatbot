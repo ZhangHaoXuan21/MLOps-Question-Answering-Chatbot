{
 "cells": [
  {
   "cell_type": "code",
   "execution_count": 2,
   "metadata": {},
   "outputs": [],
   "source": [
    "from langchain_community.document_loaders import PyPDFLoader\n",
    "from langchain_text_splitters import RecursiveCharacterTextSplitter\n",
    "from langchain_qdrant import QdrantVectorStore\n",
    "from langchain_ollama import OllamaEmbeddings\n",
    "from langchain_qdrant import FastEmbedSparse, RetrievalMode\n",
    "from langchain import hub\n",
    "from langchain_core.output_parsers import StrOutputParser\n",
    "from langchain_core.runnables import RunnablePassthrough\n",
    "from langchain_groq import ChatGroq\n",
    "from langchain.prompts import ChatPromptTemplate\n",
    "from langchain.retrievers import ContextualCompressionRetriever\n",
    "from langchain.retrievers.document_compressors import FlashrankRerank\n",
    "\n",
    "\n",
    "from typing import Literal\n",
    "from pydantic import BaseModel, Field\n",
    "\n",
    "\n",
    "import config\n",
    "from dotenv import load_dotenv\n",
    "import os"
   ]
  },
  {
   "cell_type": "markdown",
   "metadata": {},
   "source": [
    "# Setup"
   ]
  },
  {
   "cell_type": "code",
   "execution_count": null,
   "metadata": {},
   "outputs": [
    {
     "data": {
      "application/vnd.jupyter.widget-view+json": {
       "model_id": "47796856561441ceb8af24d83e75b7c8",
       "version_major": 2,
       "version_minor": 0
      },
      "text/plain": [
       "Fetching 29 files:   0%|          | 0/29 [00:00<?, ?it/s]"
      ]
     },
     "metadata": {},
     "output_type": "display_data"
    }
   ],
   "source": [
    "load_dotenv()\n",
    "GROQ_API_KEY = os.getenv(\"GROQ_API_KEY\")\n",
    "QDRANT_URL = os.getenv(\"QDRANT_URL\")\n",
    "QDRANT_API_KEY = os.getenv(\"QDRANT_API_KEY\")\n",
    "\n",
    "\n",
    "\n",
    "embeddings = OllamaEmbeddings(\n",
    "    model=\"nomic-embed-text:v1.5\"\n",
    ")\n",
    "\n",
    "sparse_embeddings = FastEmbedSparse(\n",
    "    model_name=\"Qdrant/bm25\"\n",
    ")\n",
    "\n",
    "qdrant = QdrantVectorStore.from_existing_collection(\n",
    "    embedding=embeddings,\n",
    "    sparse_embedding=sparse_embeddings,\n",
    "    url=QDRANT_URL,\n",
    "    prefer_grpc=True,\n",
    "    api_key=QDRANT_API_KEY,\n",
    "    collection_name=\"mlops_document\",\n",
    "    retrieval_mode=RetrievalMode.HYBRID,\n",
    ")\n",
    "\n",
    "hybrid_rerank_qdrant_retriever = qdrant.as_retriever(\n",
    "    search_type=\"similarity\", \n",
    "    search_kwargs={\"k\": 20},\n",
    ")\n",
    "\n",
    "groq_llama3_1_70b = ChatGroq(\n",
    "    model=\"llama-3.1-70b-versatile\",\n",
    "    temperature=0,\n",
    "    api_key=GROQ_API_KEY\n",
    ")"
   ]
  },
  {
   "cell_type": "markdown",
   "metadata": {},
   "source": [
    "# 1. Define Graph State"
   ]
  },
  {
   "cell_type": "code",
   "execution_count": 6,
   "metadata": {},
   "outputs": [],
   "source": [
    "from typing import List\n",
    "from typing_extensions import TypedDict\n",
    "from langgraph.graph import MessagesState\n",
    "from langchain_core.documents import Document\n",
    "\n",
    "\n",
    "class GraphState(MessagesState):\n",
    "    \"\"\"\n",
    "    Represents the state of our graph.\n",
    "\n",
    "    Attributes:\n",
    "        question: question\n",
    "        generation: LLM generation\n",
    "        documents: list of documents\n",
    "    \"\"\"\n",
    "\n",
    "    question: str\n",
    "    rag_answer: str\n",
    "    supervisor_route_choice: str\n",
    "    hybrid_rerank_qdrant_retriever: QdrantVectorStore\n",
    "    groq_llama3_1_70b: ChatGroq"
   ]
  },
  {
   "cell_type": "markdown",
   "metadata": {},
   "source": [
    "# 2. Define Nodes"
   ]
  },
  {
   "cell_type": "code",
   "execution_count": 7,
   "metadata": {},
   "outputs": [],
   "source": [
    "# Supervisor Node\n",
    "\n",
    "def supervisor_agent(state):\n",
    "    question = state['question']\n",
    "    groq_llama3_1_70b = state['groq_llama3_1_70b']\n",
    "\n",
    "    # Data model\n",
    "    class SupervisorRoute(BaseModel):\n",
    "        \"\"\"Route a user query to the most relevant datasource.\"\"\"\n",
    "\n",
    "        route: Literal[\"vector_store_agent\", \"apology_agent\"] = Field(\n",
    "            description=\"Given a user question choose to route it to vector_store_agent or apology_agent. \",\n",
    "        )\n",
    "\n",
    "\n",
    "    structured_supervisor_llm = groq_llama3_1_70b.with_structured_output(SupervisorRoute)\n",
    "\n",
    "    # Prompt\n",
    "    system = \"\"\"You are an expert at routing a user question to a vector_store or web search.\n",
    "    The vectorstore contains documents related to machine learning operation, machine learning and data science.\n",
    "    Use the vector_store_agent for questions on these topics. Otherwise, use apology_agent.\"\"\"\n",
    "    route_prompt = ChatPromptTemplate.from_messages(\n",
    "        [\n",
    "            (\"system\", system),\n",
    "            (\"human\", \"{question}\"),\n",
    "        ]\n",
    "    )\n",
    "\n",
    "    supervisor_agent = route_prompt | structured_supervisor_llm\n",
    "\n",
    "    supervisor_choice = supervisor_agent.invoke(question)\n",
    "\n",
    "    return {\"supervisor_route_choice\": supervisor_choice.route}\n",
    "\n",
    "# Mlops Agent\n",
    "def mlops_agent(state):\n",
    "    query = state['question']\n",
    "    hybrid_rerank_qdrant_retriever = state['hybrid_rerank_qdrant_retriever']\n",
    "    groq_llama3_1_70b = state['groq_llama3_1_70b']\n",
    "\n",
    "    # -----------------------------------------------------------------\n",
    "    # 1. Retrieval\n",
    "    # -----------------------------------------------------------------\n",
    "\n",
    "    compressor = FlashrankRerank(\n",
    "        model=\"ms-marco-MiniLM-L-12-v2\",\n",
    "        top_n=4\n",
    "    )\n",
    "    \n",
    "    compression_retriever = ContextualCompressionRetriever(\n",
    "        base_compressor=compressor, base_retriever=hybrid_rerank_qdrant_retriever\n",
    "    )\n",
    "\n",
    "    retrieved_docs = compression_retriever.invoke(query)\n",
    "\n",
    "    # Format the docs\n",
    "    doc_context = \"\\n\\n\".join(doc.page_content for doc in retrieved_docs)\n",
    "\n",
    "    # -----------------------------------------------------------------\n",
    "    # 2. Generation\n",
    "    # -----------------------------------------------------------------\n",
    "    # Prompt\n",
    "    template = \"\"\"\n",
    "    You are an assistant for question-answering tasks. \n",
    "    Please answer the question based on the context provided.\n",
    "    Do not tell the user that you are referring to the context to answer the question \n",
    "    If you don't know the answer or the context does not answer the question, just say that you don't know. \n",
    "    Elaborate your answer in well structured format.\n",
    "\n",
    "    Question: {question} \n",
    "    Context: {context} \n",
    "    Answer:\n",
    "    \"\"\"\n",
    "\n",
    "    prompt = ChatPromptTemplate.from_template(template)\n",
    "\n",
    "\n",
    "    llm = groq_llama3_1_70b\n",
    "\n",
    "    rag_chain = (\n",
    "        prompt\n",
    "        | llm\n",
    "        | StrOutputParser()\n",
    "    )\n",
    "\n",
    "    rag_answer =  rag_chain.invoke({\"question\": query, \"context\":doc_context})\n",
    "\n",
    "    return {'rag_answer': rag_answer}\n",
    "\n",
    "# Apology Agent\n",
    "def apology_agent(state):\n",
    "    question = state['question']\n",
    "    groq_llama3_1_70b = state['groq_llama3_1_70b']\n",
    "\n",
    "    # Prompt\n",
    "    template = \"\"\"\n",
    "    You are an assistant for question-answering tasks related to machine learning operation, machine learning and data science only. \n",
    "    The question are not related to machine learning operation, machine learning and data science.\n",
    "    Do not answer the question and apologize to the user.\n",
    "\n",
    "    Question: {question} \n",
    "    Apology:\n",
    "    \"\"\"\n",
    "\n",
    "    prompt = ChatPromptTemplate.from_template(template)\n",
    "\n",
    "    llm = groq_llama3_1_70b\n",
    "\n",
    "    apology_chain = (\n",
    "        prompt\n",
    "        | llm\n",
    "        | StrOutputParser()\n",
    "    )\n",
    "\n",
    "    apology_text =  apology_chain.invoke({\"question\": question})\n",
    "\n",
    "    return {\n",
    "        \"rag_answer\": apology_text\n",
    "    }"
   ]
  },
  {
   "cell_type": "markdown",
   "metadata": {},
   "source": [
    "# 3. Define Conditional Edges"
   ]
  },
  {
   "cell_type": "code",
   "execution_count": 8,
   "metadata": {},
   "outputs": [],
   "source": [
    "def supervisor_route(state):\n",
    "    supervisor_route_choice = state['supervisor_route_choice']\n",
    "\n",
    "    if supervisor_route_choice == \"vector_store_agent\":\n",
    "        return \"mlops_agent\"\n",
    "    elif supervisor_route_choice == \"apology_agent\":\n",
    "        return \"apology_agent\""
   ]
  },
  {
   "cell_type": "markdown",
   "metadata": {},
   "source": [
    "# 4. Define the Graph"
   ]
  },
  {
   "cell_type": "code",
   "execution_count": 10,
   "metadata": {},
   "outputs": [
    {
     "data": {
      "image/jpeg": "[encoded data removed]",
      "text/plain": [
       "<IPython.core.display.Image object>"
      ]
     },
     "metadata": {},
     "output_type": "display_data"
    }
   ],
   "source": [
    "from IPython.display import Image, display\n",
    "from langgraph.graph import END, StateGraph\n",
    "\n",
    "# Initialise the graph\n",
    "workflow = StateGraph(GraphState)\n",
    "\n",
    "# Add nodes\n",
    "workflow.add_node(\"supervisor_agent\", supervisor_agent)\n",
    "workflow.add_node(\"mlops_agent\", mlops_agent)\n",
    "workflow.add_node(\"apology_agent\", apology_agent)\n",
    "\n",
    "\n",
    "# Add Edges\n",
    "workflow.set_entry_point(\"supervisor_agent\")\n",
    "workflow.add_conditional_edges(\n",
    "    source=\"supervisor_agent\",\n",
    "    path=supervisor_route,\n",
    "    path_map={\n",
    "        \"mlops_agent\": \"mlops_agent\",\n",
    "        \"apology_agent\": \"apology_agent\",\n",
    "    }\n",
    ")\n",
    "workflow.add_edge(\"mlops_agent\", END)\n",
    "workflow.add_edge(\"apology_agent\", END)\n",
    "\n",
    "rag_graph = workflow.compile()\n",
    "\n",
    "display(Image(rag_graph.get_graph().draw_mermaid_png()))"
   ]
  },
  {
   "cell_type": "markdown",
   "metadata": {},
   "source": [
    "# 5. Test the Graph"
   ]
  },
  {
   "cell_type": "code",
   "execution_count": 12,
   "metadata": {},
   "outputs": [
    {
     "data": {
      "application/vnd.jupyter.widget-view+json": {
       "model_id": "bf6f21f7db5a43a2b710fb5cc937722c",
       "version_major": 2,
       "version_minor": 0
      },
      "text/plain": [
       "Fetching 29 files:   0%|          | 0/29 [00:00<?, ?it/s]"
      ]
     },
     "metadata": {},
     "output_type": "display_data"
    }
   ],
   "source": [
    "load_dotenv()\n",
    "GROQ_API_KEY = os.getenv(\"GROQ_API_KEY\")\n",
    "QDRANT_URL = os.getenv(\"QDRANT_URL\")\n",
    "QDRANT_API_KEY = os.getenv(\"QDRANT_API_KEY\")\n",
    "\n",
    "embeddings = OllamaEmbeddings(\n",
    "    model=\"nomic-embed-text:v1.5\"\n",
    ")\n",
    "\n",
    "sparse_embeddings = FastEmbedSparse(\n",
    "    model_name=\"Qdrant/bm25\"\n",
    ")\n",
    "\n",
    "qdrant = QdrantVectorStore.from_existing_collection(\n",
    "    embedding=embeddings,\n",
    "    sparse_embedding=sparse_embeddings,\n",
    "    url=QDRANT_URL,\n",
    "    prefer_grpc=True,\n",
    "    api_key=QDRANT_API_KEY,\n",
    "    collection_name=\"mlops_document\",\n",
    "    retrieval_mode=RetrievalMode.HYBRID,\n",
    ")\n",
    "\n",
    "hybrid_rerank_qdrant_retriever = qdrant.as_retriever(\n",
    "    search_type=\"similarity\", \n",
    "    search_kwargs={\"k\": 20},\n",
    ")\n",
    "\n",
    "groq_llama3_1_70b = ChatGroq(\n",
    "    model=\"llama-3.1-70b-versatile\",\n",
    "    temperature=0,\n",
    "    api_key=GROQ_API_KEY\n",
    ")"
   ]
  },
  {
   "cell_type": "code",
   "execution_count": 13,
   "metadata": {},
   "outputs": [
    {
     "name": "stderr",
     "output_type": "stream",
     "text": [
      "INFO:httpx:HTTP Request: POST http://127.0.0.1:11434/api/embed \"HTTP/1.1 200 OK\"\n",
      "INFO:httpx:HTTP Request: POST https://api.groq.com/openai/v1/chat/completions \"HTTP/1.1 200 OK\"\n"
     ]
    },
    {
     "name": "stdout",
     "output_type": "stream",
     "text": [
      "**What is Data Leakage?**\n",
      "\n",
      "Data leakage refers to the phenomenon where a form of the label or target variable \"leaks\" into the set of features used for making predictions, and this same information is not available during inference. This can cause machine learning models to fail in unexpected and spectacular ways, even after extensive evaluation and testing.\n",
      "\n",
      "**Examples of Data Leakage**\n",
      "\n",
      "1. **Predicting COVID-19 risks from medical scans**: A model was trained on a mix of scans taken when patients were lying down and standing up. The model learned to predict serious COVID-19 risk from a person's position, which is not a relevant feature for making predictions.\n",
      "2. **Predicting COVID-19 risks from text font**: A model was trained on scans labeled with different fonts from various hospitals. The model learned to predict COVID-19 risk from the font used, which is not a relevant feature for making predictions.\n",
      "3. **Predicting lung cancer from CT scans**: A model was trained on CT scans from hospital A, which used a specific scan machine for patients with suspected lung cancer. The model learned to rely on the information on the scan machine used to make predictions, which is not available in hospital B.\n",
      "\n",
      "**Common Causes of Data Leakage**\n",
      "\n",
      "1. **Splitting time-correlated data randomly**: Splitting data randomly can cause data leakage when the data is time-correlated, such as stock prices or medical scans.\n",
      "2. **Data duplication prior to splitting**: Including duplicate data points in the training and test sets can cause data leakage.\n",
      "3. **Leakage from data generation process**: The way data is collected and processed can cause data leakage, such as using different scan machines for patients with suspected lung cancer.\n",
      "4. **Scaling before splitting**: Scaling data before splitting it into training and test sets can cause data leakage.\n",
      "\n",
      "**Detecting Data Leakage**\n",
      "\n",
      "1. **Measure the predictive power of each feature**: Investigate features with unusually high correlation with the target variable.\n",
      "2. **Monitor for data leakage during the entire lifecycle of an ML project**: Data leakage can happen during many steps, from generating, collecting, sampling, splitting, and processing data to feature engineering.\n"
     ]
    }
   ],
   "source": [
    "question = \"What is data leakage ?\"\n",
    "graph_state = {\n",
    "    \"question\":question,\n",
    "    \"rag_answer\":\"None\",\n",
    "    \"supervisor_route_choice\":\"None\",\n",
    "    \"hybrid_rerank_qdrant_retriever\":hybrid_rerank_qdrant_retriever,\n",
    "    \"groq_llama3_1_70b\": groq_llama3_1_70b\n",
    "}\n",
    "result = rag_graph.invoke(graph_state)\n",
    "print(result['rag_answer'])"
   ]
  },
  {
   "cell_type": "code",
   "execution_count": 14,
   "metadata": {},
   "outputs": [
    {
     "name": "stderr",
     "output_type": "stream",
     "text": [
      "INFO:httpx:HTTP Request: POST https://api.groq.com/openai/v1/chat/completions \"HTTP/1.1 200 OK\"\n",
      "INFO:httpx:HTTP Request: POST https://api.groq.com/openai/v1/chat/completions \"HTTP/1.1 200 OK\"\n"
     ]
    },
    {
     "name": "stdout",
     "output_type": "stream",
     "text": [
      "I apologize, but I'm a specialized assistant for question-answering tasks related to machine learning operation, machine learning, and data science only. I'm not equipped to provide information on general knowledge topics, including sports or celebrities. If you have any questions related to machine learning or data science, I'd be happy to help.\n"
     ]
    }
   ],
   "source": [
    "question = \"Who is cristiano ronaldo?\"\n",
    "graph_state = {\n",
    "    \"question\":question,\n",
    "    \"rag_answer\":\"None\",\n",
    "    \"supervisor_route_choice\":\"None\",\n",
    "    \"hybrid_rerank_qdrant_retriever\":hybrid_rerank_qdrant_retriever,\n",
    "    \"groq_llama3_1_70b\": groq_llama3_1_70b\n",
    "}\n",
    "result = rag_graph.invoke(graph_state)\n",
    "print(result['rag_answer'])"
   ]
  },
  {
   "cell_type": "code",
   "execution_count": null,
   "metadata": {},
   "outputs": [],
   "source": []
  },
  {
   "cell_type": "code",
   "execution_count": null,
   "metadata": {},
   "outputs": [],
   "source": []
  },
  {
   "cell_type": "code",
   "execution_count": null,
   "metadata": {},
   "outputs": [],
   "source": []
  },
  {
   "cell_type": "code",
   "execution_count": null,
   "metadata": {},
   "outputs": [],
   "source": []
  }
 ],
 "metadata": {
  "kernelspec": {
   "display_name": "jaredllm",
   "language": "python",
   "name": "python3"
  },
  "language_info": {
   "codemirror_mode": {
    "name": "ipython",
    "version": 3
   },
   "file_extension": ".py",
   "mimetype": "text/x-python",
   "name": "python",
   "nbconvert_exporter": "python",
   "pygments_lexer": "ipython3",
   "version": "3.12.4"
  }
 },
 "nbformat": 4,
 "nbformat_minor": 2
}
