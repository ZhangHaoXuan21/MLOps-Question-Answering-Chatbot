{
 "cells": [
  {
   "cell_type": "code",
   "execution_count": 1,
   "metadata": {},
   "outputs": [],
   "source": [
    "import numpy as np\n",
    "import pandas as pd\n",
    "import joblib"
   ]
  },
  {
   "cell_type": "markdown",
   "metadata": {},
   "source": [
    "# 1. Load Test Cases"
   ]
  },
  {
   "cell_type": "code",
   "execution_count": 2,
   "metadata": {},
   "outputs": [],
   "source": [
    "hybrid_reranker_test_cases = joblib.load(\"hybrid_search_reranker_test.pkl\")\n",
    "rag_fusion_test_cases = joblib.load(\"rag_fusion_test.pkl\")\n",
    "adaptive_rag_test_cases = joblib.load(\"adaptive_rag_test.pkl\")"
   ]
  },
  {
   "cell_type": "code",
   "execution_count": 3,
   "metadata": {},
   "outputs": [
    {
     "data": {
      "text/plain": [
       "dict_keys(['question', 'expected_answer', 'query_type', 'hybrid_search_reranker_answer', 'hybrid_search_reranker_doc_context', 'answer_relevancy', 'faithfulness', 'contextual_precision', 'contextual_recall', 'contextual_relevancy'])"
      ]
     },
     "execution_count": 3,
     "metadata": {},
     "output_type": "execute_result"
    }
   ],
   "source": [
    "hybrid_reranker_test_cases.keys()"
   ]
  },
  {
   "cell_type": "code",
   "execution_count": 11,
   "metadata": {},
   "outputs": [
    {
     "name": "stdout",
     "output_type": "stream",
     "text": [
      "--------------------------------------------------\n",
      "Hybrid Search Reranker Evaluation\n",
      "--------------------------------------------------\n",
      "Average answer_relevancy: 0.8944444444444445\n",
      "Average faithfulness: 0.986111111111111\n",
      "Average contextual_precision: 0.4\n",
      "Average contextual_recall: 0.9928571428571429\n",
      "Average contextual_relevancy: 0.8066366256647587\n",
      "Average RAG Eval Score: 0.8160098648154914\n",
      "\n",
      "\n",
      "--------------------------------------------------\n",
      "RAG Fusion Evaluation\n",
      "--------------------------------------------------\n",
      "Average answer_relevancy: 0.9720238095238095\n",
      "Average faithfulness: 0.785357142857143\n",
      "Average contextual_precision: 0.3\n",
      "Average contextual_recall: -0.8\n",
      "Average contextual_relevancy: 0.595297619047619\n",
      "Average RAG Eval Score: 0.3705357142857143\n",
      "\n",
      "\n",
      "--------------------------------------------------\n",
      "Adaptive RAG Evaluation\n",
      "--------------------------------------------------\n",
      "Average answer_relevancy: 0.5944444444444444\n",
      "Average faithfulness: 0.47750000000000004\n",
      "Average contextual_precision: 0.38395833333333335\n",
      "Average contextual_recall: 0.22999999999999998\n",
      "Average contextual_relevancy: 0.2912545787545787\n",
      "Average RAG Eval Score: 0.3954314713064713\n",
      "\n",
      "\n"
     ]
    }
   ],
   "source": [
    "rag_metrics = ['answer_relevancy', 'faithfulness', 'contextual_precision', 'contextual_recall', 'contextual_relevancy']\n",
    "\n",
    "print(\"-\"*50)\n",
    "print(\"Hybrid Search Reranker Evaluation\")\n",
    "print(\"-\"*50)\n",
    "hybrid_rerank_avg = 0\n",
    "for metrics in rag_metrics:\n",
    "    this_metric_average_score = np.average(hybrid_reranker_test_cases[metrics])\n",
    "    hybrid_rerank_avg += this_metric_average_score\n",
    "    print(f\"Average {metrics}: {this_metric_average_score}\")\n",
    "\n",
    "hybrid_rerank_avg = hybrid_rerank_avg / 5\n",
    "print(f\"Average RAG Eval Score: {hybrid_rerank_avg}\")\n",
    "print(\"\\n\"*1)\n",
    "\n",
    "\n",
    "print(\"-\"*50)\n",
    "print(\"RAG Fusion Evaluation\")\n",
    "print(\"-\"*50)\n",
    "rag_fusion_avg = 0\n",
    "for metrics in rag_metrics:\n",
    "    this_metric_average_score = np.average(rag_fusion_test_cases[metrics])\n",
    "    rag_fusion_avg += this_metric_average_score\n",
    "    print(f\"Average {metrics}: {this_metric_average_score}\")\n",
    "rag_fusion_avg = rag_fusion_avg / 5\n",
    "print(f\"Average RAG Eval Score: {rag_fusion_avg}\")\n",
    "print(\"\\n\"*1)\n",
    "\n",
    "print(\"-\"*50)\n",
    "print(\"Adaptive RAG Evaluation\")\n",
    "print(\"-\"*50)\n",
    "adaptive_rag_avg = 0\n",
    "for metrics in rag_metrics:\n",
    "    this_metric_average_score = np.average(adaptive_rag_test_cases[metrics])\n",
    "    adaptive_rag_avg += this_metric_average_score\n",
    "    print(f\"Average {metrics}: {this_metric_average_score}\")\n",
    "adaptive_rag_avg = adaptive_rag_avg / 5\n",
    "print(f\"Average RAG Eval Score: {adaptive_rag_avg}\")\n",
    "print(\"\\n\"*1)"
   ]
  },
  {
   "cell_type": "code",
   "execution_count": null,
   "metadata": {},
   "outputs": [],
   "source": []
  },
  {
   "cell_type": "code",
   "execution_count": null,
   "metadata": {},
   "outputs": [],
   "source": []
  }
 ],
 "metadata": {
  "kernelspec": {
   "display_name": "jaredllm",
   "language": "python",
   "name": "python3"
  },
  "language_info": {
   "codemirror_mode": {
    "name": "ipython",
    "version": 3
   },
   "file_extension": ".py",
   "mimetype": "text/x-python",
   "name": "python",
   "nbconvert_exporter": "python",
   "pygments_lexer": "ipython3",
   "version": "3.12.4"
  }
 },
 "nbformat": 4,
 "nbformat_minor": 2
}
