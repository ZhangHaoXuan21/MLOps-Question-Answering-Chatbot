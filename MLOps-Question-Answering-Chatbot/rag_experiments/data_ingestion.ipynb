{
 "cells": [
  {
   "cell_type": "code",
   "execution_count": 1,
   "metadata": {},
   "outputs": [],
   "source": [
    "from langchain_community.document_loaders import PyPDFLoader\n",
    "from langchain_text_splitters import RecursiveCharacterTextSplitter\n",
    "from langchain_qdrant import QdrantVectorStore\n",
    "from langchain_ollama import OllamaEmbeddings\n",
    "from langchain_qdrant import FastEmbedSparse, RetrievalMode\n",
    "from langchain import hub\n",
    "from langchain_core.output_parsers import StrOutputParser\n",
    "from langchain_core.runnables import RunnablePassthrough\n",
    "from langchain_groq import ChatGroq\n",
    "from langchain_community.embeddings import HuggingFaceEmbeddings\n",
    "\n",
    "import config\n",
    "\n"
   ]
  },
  {
   "cell_type": "code",
   "execution_count": 2,
   "metadata": {},
   "outputs": [
    {
     "name": "stdout",
     "output_type": "stream",
     "text": [
      "collections=[CollectionDescription(name='mlops_document')]\n"
     ]
    }
   ],
   "source": [
    "from qdrant_client import QdrantClient\n",
    "\n",
    "url = config.QDRANT_URL\n",
    "api_key = config.QDRANT_API_KEY\n",
    "\n",
    "qdrant_client = QdrantClient(\n",
    "    url=url, \n",
    "    api_key=api_key,\n",
    ")\n",
    "\n",
    "print(qdrant_client.get_collections())"
   ]
  },
  {
   "cell_type": "code",
   "execution_count": 3,
   "metadata": {},
   "outputs": [
    {
     "data": {
      "text/plain": [
       "True"
      ]
     },
     "execution_count": 3,
     "metadata": {},
     "output_type": "execute_result"
    }
   ],
   "source": [
    "qdrant_client.delete_collection('mlops_document')"
   ]
  },
  {
   "cell_type": "markdown",
   "metadata": {},
   "source": [
    "# 1. Load pdfs and split chunks"
   ]
  },
  {
   "cell_type": "code",
   "execution_count": 4,
   "metadata": {},
   "outputs": [
    {
     "name": "stdout",
     "output_type": "stream",
     "text": [
      "Loading PDFs Start.\n",
      "Loading PDFs End.\n"
     ]
    }
   ],
   "source": [
    "# -------------------------------------------------------------------------\n",
    "# 1. Load multiple PDFs using PyPDFLoader, only if the file is a PDF\n",
    "# -------------------------------------------------------------------------\n",
    "print(\"Loading PDFs Start.\")\n",
    "\n",
    "file_paths = config.PDF_FILE_PATHS\n",
    "docs = []\n",
    "\n",
    "for file_path in file_paths:\n",
    "    # Check if the file is a PDF\n",
    "    if file_path.lower().endswith(\".pdf\"):\n",
    "        loader = PyPDFLoader(file_path)\n",
    "        docs.extend(loader.load())  # Combine all loaded docs into a single list\n",
    "    else:\n",
    "        print(f\"Skipping non-PDF file: {file_path}\")\n",
    "\n",
    "print(\"Loading PDFs End.\")"
   ]
  },
  {
   "cell_type": "code",
   "execution_count": 9,
   "metadata": {},
   "outputs": [
    {
     "name": "stdout",
     "output_type": "stream",
     "text": [
      "Splitting Documents into Chunks Start.\n",
      "Splitting Documents into Chunks End.\n"
     ]
    }
   ],
   "source": [
    "# -------------------------------------------------------------------------\n",
    "# 2. Split the docs into smaller chunks\n",
    "# -------------------------------------------------------------------------\n",
    "print(\"Splitting Documents into Chunks Start.\")\n",
    "text_splitter = RecursiveCharacterTextSplitter(chunk_size=1200, chunk_overlap=200)\n",
    "chunks = text_splitter.split_documents(docs)\n",
    "print(\"Splitting Documents into Chunks End.\")"
   ]
  },
  {
   "cell_type": "markdown",
   "metadata": {},
   "source": [
    "# 2. Ingest into Vector DB"
   ]
  },
  {
   "cell_type": "code",
   "execution_count": null,
   "metadata": {},
   "outputs": [
    {
     "name": "stdout",
     "output_type": "stream",
     "text": [
      "Ingest to Vector Database Start.\n"
     ]
    },
    {
     "data": {
      "application/vnd.jupyter.widget-view+json": {
       "model_id": "b0e0393016cb4cdca03b751934c65c18",
       "version_major": 2,
       "version_minor": 0
      },
      "text/plain": [
       "Fetching 29 files:   0%|          | 0/29 [00:00<?, ?it/s]"
      ]
     },
     "metadata": {},
     "output_type": "display_data"
    },
    {
     "name": "stdout",
     "output_type": "stream",
     "text": [
      "Ingest to Vector Database End.\n"
     ]
    }
   ],
   "source": [
    "# -------------------------------------------------------------------------\n",
    "# 2. Ingest to Vector Database: Qdrant\n",
    "# -------------------------------------------------------------------------\n",
    "print(\"Ingest to Vector Database Start.\")\n",
    "url = config.QDRANT_URL\n",
    "api_key = config.QDRANT_API_KEY\n",
    "\n",
    "sparse_embeddings = FastEmbedSparse(\n",
    "    model_name=\"Qdrant/bm25\"\n",
    ")\n",
    "\n",
    "# Initialize text embeddings\n",
    "model_name = \"jinaai/jina-embeddings-v3\"\n",
    "model_kwargs = {'device': 'cuda', \"trust_remote_code\":True}\n",
    "encode_kwargs = {'normalize_embeddings': True}\n",
    "hf_embed =  HuggingFaceEmbeddings(\n",
    "    model_name=model_name,\n",
    "    model_kwargs=model_kwargs,\n",
    "    encode_kwargs=encode_kwargs\n",
    ")\n",
    "\n",
    "# embeddings = OllamaEmbeddings(\n",
    "#     model=\"nomic-embed-text:v1.5\"\n",
    "# )\n",
    "\n",
    "embeddings = hf_embed\n",
    "\n",
    "QdrantVectorStore.from_documents(\n",
    "    chunks,\n",
    "    embedding=embeddings,\n",
    "    sparse_embedding=sparse_embeddings,\n",
    "    url=url,\n",
    "    prefer_grpc=True,\n",
    "    api_key=api_key,\n",
    "    collection_name=\"mlops_document\",\n",
    "    retrieval_mode=RetrievalMode.HYBRID,\n",
    ")\n",
    "print(\"Ingest to Vector Database End.\")"
   ]
  },
  {
   "cell_type": "markdown",
   "metadata": {},
   "source": [
    "# Final: Put everything into one function"
   ]
  },
  {
   "cell_type": "code",
   "execution_count": null,
   "metadata": {},
   "outputs": [],
   "source": [
    "def ingest_to_vector_db():\n",
    "    # -------------------------------------------------------------------------\n",
    "    # 1. Load multiple PDFs using PyPDFLoader, only if the file is a PDF\n",
    "    # -------------------------------------------------------------------------\n",
    "    print(\"Loading PDFs Start.\")\n",
    "\n",
    "    file_paths = config.PDF_FILE_PATHS\n",
    "    docs = []\n",
    "\n",
    "    for file_path in file_paths:\n",
    "        # Check if the file is a PDF\n",
    "        if file_path.lower().endswith(\".pdf\"):\n",
    "            loader = PyPDFLoader(file_path)\n",
    "            docs.extend(loader.load())  # Combine all loaded docs into a single list\n",
    "        else:\n",
    "            print(f\"Skipping non-PDF file: {file_path}\")\n",
    "\n",
    "    print(\"Loading PDFs End.\")\n",
    "\n",
    "    # -------------------------------------------------------------------------\n",
    "    # 2. Split the docs into smaller chunks\n",
    "    # -------------------------------------------------------------------------\n",
    "    print(\"Splitting Documents into Chunks Start.\")\n",
    "    text_splitter = RecursiveCharacterTextSplitter(chunk_size=1200, chunk_overlap=200)\n",
    "    chunks = text_splitter.split_documents(docs)\n",
    "    print(\"Splitting Documents into Chunks End.\")\n",
    "\n",
    "    # -------------------------------------------------------------------------\n",
    "    # 3. Ingest to Vector Database: Qdrant\n",
    "    # -------------------------------------------------------------------------\n",
    "    # -------------------------------------------------------------------------\n",
    "    # 2. Ingest to Vector Database: Qdrant\n",
    "    # -------------------------------------------------------------------------\n",
    "    print(\"Ingest to Vector Database Start.\")\n",
    "    url = config.QDRANT_URL\n",
    "    api_key = config.QDRANT_API_KEY\n",
    "\n",
    "    sparse_embeddings = FastEmbedSparse(\n",
    "        model_name=\"Qdrant/bm25\"\n",
    "    )\n",
    "\n",
    "    # Initialize text embeddings\n",
    "    model_name = \"jinaai/jina-embeddings-v3\"\n",
    "    model_kwargs = {'device': 'cuda', \"trust_remote_code\":True}\n",
    "    encode_kwargs = {'normalize_embeddings': True}\n",
    "    hf_embed =  HuggingFaceEmbeddings(\n",
    "        model_name=model_name,\n",
    "        model_kwargs=model_kwargs,\n",
    "        encode_kwargs=encode_kwargs\n",
    "    )\n",
    "\n",
    "    # embeddings = OllamaEmbeddings(\n",
    "    #     model=\"nomic-embed-text:v1.5\"\n",
    "    # )\n",
    "\n",
    "    embeddings = hf_embed\n",
    "\n",
    "    QdrantVectorStore.from_documents(\n",
    "        chunks,\n",
    "        embedding=embeddings,\n",
    "        sparse_embedding=sparse_embeddings,\n",
    "        url=url,\n",
    "        prefer_grpc=True,\n",
    "        api_key=api_key,\n",
    "        collection_name=\"mlops_document\",\n",
    "        retrieval_mode=RetrievalMode.HYBRID,\n",
    "    )\n",
    "    print(\"Ingest to Vector Database End.\")\n",
    "\n",
    "ingest_to_vector_db()\n"
   ]
  },
  {
   "cell_type": "code",
   "execution_count": null,
   "metadata": {},
   "outputs": [],
   "source": []
  },
  {
   "cell_type": "code",
   "execution_count": null,
   "metadata": {},
   "outputs": [],
   "source": []
  }
 ],
 "metadata": {
  "kernelspec": {
   "display_name": "jaredllm",
   "language": "python",
   "name": "python3"
  },
  "language_info": {
   "codemirror_mode": {
    "name": "ipython",
    "version": 3
   },
   "file_extension": ".py",
   "mimetype": "text/x-python",
   "name": "python",
   "nbconvert_exporter": "python",
   "pygments_lexer": "ipython3",
   "version": "3.12.4"
  }
 },
 "nbformat": 4,
 "nbformat_minor": 2
}
